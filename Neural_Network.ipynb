{
 "cells": [
  {
   "cell_type": "code",
   "execution_count": 26,
   "metadata": {},
   "outputs": [],
   "source": [
    "#Import Statements\n",
    "\n",
    "import numpy as np\n"
   ]
  },
  {
   "cell_type": "code",
   "execution_count": 46,
   "metadata": {},
   "outputs": [],
   "source": [
    "def forward(X,W,B):\n",
    "    #y = wtranspose.x + biases\n",
    "    print(\"Dimensions of X,W,B:\",X.shape,W.shape,B.shape)\n",
    "    Y = X.dot(W) + B\n",
    "    \n",
    "    #o = y\n",
    "    O = sigmoid(Y)\n",
    "    return O"
   ]
  },
  {
   "cell_type": "code",
   "execution_count": 50,
   "metadata": {},
   "outputs": [],
   "source": [
    "def forward_pass(X,network):\n",
    "    W = network.weights[0]\n",
    "    B = network.biases[0]\n",
    "    O = forward(X,W,B)\n",
    "    for i in range(1,len(network.weights)):\n",
    "        W = network.weights[i]\n",
    "        B = network.biases[i]\n",
    "        O = forward(O,W,B)\n",
    "    return O"
   ]
  },
  {
   "cell_type": "code",
   "execution_count": null,
   "metadata": {},
   "outputs": [],
   "source": [
    "def calc_cost(O,t):\n",
    "    #Average of Error\n",
    "    "
   ]
  },
  {
   "cell_type": "code",
   "execution_count": null,
   "metadata": {},
   "outputs": [],
   "source": [
    "def backward_pass(O,t):\n",
    "    pass"
   ]
  },
  {
   "cell_type": "code",
   "execution_count": null,
   "metadata": {},
   "outputs": [],
   "source": [
    "#Activation Function\n",
    "def ReLU(z):\n",
    "    return np.maximum(z,0,z)"
   ]
  },
  {
   "cell_type": "code",
   "execution_count": 41,
   "metadata": {},
   "outputs": [],
   "source": [
    "def sigmoid(z):\n",
    "    return 1/(np.exp(-1*z) + 1)"
   ]
  },
  {
   "cell_type": "code",
   "execution_count": 27,
   "metadata": {},
   "outputs": [],
   "source": [
    "class Network:\n",
    "    def __init__(self,layers):\n",
    "        if len(layers)<2:\n",
    "            print(\"Cannot create Neural Network with less than 2 layers\")\n",
    "            return\n",
    "        self.layers = layers\n",
    "        self.weights = []\n",
    "        self.biases = []\n",
    "        \n",
    "        for i in range(1, len(layers)):\n",
    "            rows = layers[i-1] #784\n",
    "            cols = layers[i] #28\n",
    "            layer_weight = np.random.random((rows,cols))\n",
    "            layer_bias = np.random.random(layers[i])\n",
    "            self.weights.append(layer_weight)\n",
    "            self.biases.append(layer_bias)"
   ]
  },
  {
   "cell_type": "code",
   "execution_count": 51,
   "metadata": {},
   "outputs": [
    {
     "data": {
      "text/plain": [
       "[array([[ 0.04073864],\n",
       "        [ 0.25581163],\n",
       "        [ 0.33740176]])]"
      ]
     },
     "execution_count": 51,
     "metadata": {},
     "output_type": "execute_result"
    }
   ],
   "source": [
    "my_net = Network([3,1])\n",
    "my_net.weights"
   ]
  },
  {
   "cell_type": "code",
   "execution_count": 52,
   "metadata": {},
   "outputs": [
    {
     "name": "stdout",
     "output_type": "stream",
     "text": [
      "Dimensions of X,W,B: (5, 3) (3, 1) (1,)\n"
     ]
    }
   ],
   "source": [
    "X = np.random.random((5,3))\n",
    "O = forward_pass(X,my_net)"
   ]
  },
  {
   "cell_type": "code",
   "execution_count": 55,
   "metadata": {},
   "outputs": [
    {
     "data": {
      "text/plain": [
       "array([[ 0.64860793],\n",
       "       [ 0.55829617],\n",
       "       [ 0.67742139],\n",
       "       [ 0.63422029],\n",
       "       [ 0.6349737 ]])"
      ]
     },
     "execution_count": 55,
     "metadata": {},
     "output_type": "execute_result"
    }
   ],
   "source": [
    "O"
   ]
  },
  {
   "cell_type": "code",
   "execution_count": 56,
   "metadata": {},
   "outputs": [],
   "source": [
    "t = np.array([0.5,0.5,0.5,0.5,0.5])"
   ]
  },
  {
   "cell_type": "code",
   "execution_count": null,
   "metadata": {},
   "outputs": [],
   "source": []
  }
 ],
 "metadata": {
  "kernelspec": {
   "display_name": "Python 3",
   "language": "python",
   "name": "python3"
  },
  "language_info": {
   "codemirror_mode": {
    "name": "ipython",
    "version": 3
   },
   "file_extension": ".py",
   "mimetype": "text/x-python",
   "name": "python",
   "nbconvert_exporter": "python",
   "pygments_lexer": "ipython3",
   "version": "3.5.2"
  }
 },
 "nbformat": 4,
 "nbformat_minor": 2
}
