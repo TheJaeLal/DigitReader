{
 "cells": [
  {
   "cell_type": "code",
   "execution_count": 1,
   "metadata": {},
   "outputs": [],
   "source": [
    "#Import Statements\n",
    "import numpy as np\n",
    "import mnist_loader"
   ]
  },
  {
   "cell_type": "code",
   "execution_count": 24,
   "metadata": {},
   "outputs": [],
   "source": [
    "class Network:\n",
    "    #Construcutor\n",
    "    def __init__(self,neurons):\n",
    "        self.layers = len(neurons)\n",
    "        self.neurons = neurons\n",
    "        \n",
    "        self.weights = []\n",
    "        self.biases = []\n",
    "        \n",
    "        #Initialize weights\n",
    "        for i in range(1,self.layers):\n",
    "            #layer_weight = None\n",
    "            rows  = neurons[i]\n",
    "            cols = neurons[i-1]\n",
    "            #Creates a numpy array with dimensions rows x cols\n",
    "            #At the same time, initializes them with random normal distribution b/w 0 and 1\n",
    "            layer_weight = np.random.randn(rows,cols)\n",
    "            self.weights.append(layer_weight)\n",
    "                \n",
    "            layer_bias = np.random.randn(rows,1)\n",
    "            self.biases.append(layer_bias)\n"
   ]
  },
  {
   "cell_type": "code",
   "execution_count": 3,
   "metadata": {},
   "outputs": [],
   "source": [
    "def sigmoid(z):\n",
    "    return z\n",
    "#     return 1.0/(1.0 + np.exp(-z))"
   ]
  },
  {
   "cell_type": "code",
   "execution_count": 4,
   "metadata": {},
   "outputs": [],
   "source": [
    "def feedforward(network,X):\n",
    "    \n",
    "    #Stores the Aj values\n",
    "    Layer_Activations = []\n",
    "    \n",
    "    #Stores the Zj values\n",
    "    Weighted_Sums = []\n",
    "    \n",
    "    for i in range(1,network.layers):\n",
    "   \n",
    "        if i==1:\n",
    "            A = X\n",
    "        else:\n",
    "            A  = Layer_Activations[-1]\n",
    "        \n",
    "        W = network.weights[i-1]\n",
    "        B = network.biases[i-1]\n",
    "        Z = np.dot(W,A) + B\n",
    "        Weighted_Sums.append(Z)\n",
    "        A = sigmoid(Z)\n",
    "        Layer_Activations.append(A)\n",
    "\n",
    "    return (Weighted_Sums,Layer_Activations)"
   ]
  },
  {
   "cell_type": "code",
   "execution_count": 5,
   "metadata": {},
   "outputs": [],
   "source": [
    "def test(Output,Target):\n",
    "    #Output --> (10,Number_of_training_Samples)\n",
    "    #Target --> (Number_of_traing_Samples)\n",
    "    \n",
    "    Prediction = np.argmax(Output,axis=0)\n",
    "    #Prediction --> (Number_of_training_Samples,)    \n",
    "    \n",
    "    accuracy = (sum((Prediction == Target).astype(np.float32))/Target.shape[0])*100.0\n",
    "    \n",
    "    return accuracy"
   ]
  },
  {
   "cell_type": "code",
   "execution_count": 6,
   "metadata": {},
   "outputs": [],
   "source": [
    "train_data,valid_data,test_data = mnist_loader.load_data_wrapper()"
   ]
  },
  {
   "cell_type": "code",
   "execution_count": 44,
   "metadata": {},
   "outputs": [],
   "source": [
    "network = Network([784,30,10])\n",
    "weighted_sums,activations = feedforward(network,train_data[0])"
   ]
  },
  {
   "cell_type": "code",
   "execution_count": 39,
   "metadata": {},
   "outputs": [],
   "source": [
    "def sigmoid_derivative(z):\n",
    "    return sigmoid(z)*(1-sigmoid(z))\n",
    "    "
   ]
  },
  {
   "cell_type": "code",
   "execution_count": 40,
   "metadata": {},
   "outputs": [],
   "source": [
    "def cost_gradient(output,label):\n",
    "    return output-label"
   ]
  },
  {
   "cell_type": "code",
   "execution_count": 47,
   "metadata": {},
   "outputs": [
    {
     "data": {
      "text/plain": [
       "(10, 50000)"
      ]
     },
     "execution_count": 47,
     "metadata": {},
     "output_type": "execute_result"
    }
   ],
   "source": [
    "final_delta = cost_gradient(activations[-1],train_data[1])*sigmoid_derivative(weighted_sums[-1])"
   ]
  }
 ],
 "metadata": {
  "kernelspec": {
   "display_name": "Python 3",
   "language": "python",
   "name": "python3"
  },
  "language_info": {
   "codemirror_mode": {
    "name": "ipython",
    "version": 3
   },
   "file_extension": ".py",
   "mimetype": "text/x-python",
   "name": "python",
   "nbconvert_exporter": "python",
   "pygments_lexer": "ipython3",
   "version": "3.5.2"
  }
 },
 "nbformat": 4,
 "nbformat_minor": 2
}
