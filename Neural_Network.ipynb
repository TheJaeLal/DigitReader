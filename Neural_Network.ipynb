{
 "cells": [
  {
   "cell_type": "code",
   "execution_count": 1,
   "metadata": {},
   "outputs": [],
   "source": [
    "#Import Statements\n",
    "\n",
    "import numpy as np\n"
   ]
  },
  {
   "cell_type": "code",
   "execution_count": 2,
   "metadata": {},
   "outputs": [],
   "source": [
    "def weighted_sum(X,W,B):\n",
    "    #y = wtranspose.x + biases\n",
    "    print(\"Dimensions of X,W,B:\",X.shape,W.shape,B.shape)\n",
    "    Y = X.dot(W) + B\n",
    "    return Y"
   ]
  },
  {
   "cell_type": "code",
   "execution_count": 3,
   "metadata": {},
   "outputs": [],
   "source": [
    "def forward_pass(X,network):\n",
    "    W = network.weights[0]\n",
    "    B = network.biases[0]\n",
    "    Inputs.append(X)\n",
    "    Y = weighted_sum(X,W,B)\n",
    "    Weighted_Sums.append(Y)\n",
    "    O = sigmoid(Y)\n",
    "    for i in range(1,len(network.weights)):\n",
    "        W = network.weights[i]\n",
    "        B = network.biases[i]\n",
    "        Inputs.append(O)\n",
    "        #Calculate weighted sum, wTx+B\n",
    "        Y = weighted_sum(O,W,B)\n",
    "        Weighted_Sums.append(Y)\n",
    "        O = sigmoid(Y)\n",
    "    #Final Output = maximum value from output classes (10 in the digit recognizer case)\n",
    "    #print(O)\n",
    "    O = np.argmax(O,axis=1)+1\n",
    "    return O"
   ]
  },
  {
   "cell_type": "code",
   "execution_count": null,
   "metadata": {},
   "outputs": [],
   "source": [
    "def calc_cost(O,t):\n",
    "    #Average of Error\n",
    "    "
   ]
  },
  {
   "cell_type": "code",
   "execution_count": null,
   "metadata": {},
   "outputs": [],
   "source": [
    "def backward_pass(network,alpha,O,t,Weighted_Sums,Inputs):\n",
    "\n",
    "    error = calc_error(Weighted_Sums,O,t)\n",
    "\n",
    "    #Update weights and biases\n",
    "    for i in range(len(error)):\n",
    "        dw = Inputs[i].dot(error[i])\n",
    "        db = error[i]\n",
    "        network.weights[i]+= alpha * dw\n",
    "        network.biases[i]+= alpha * db        "
   ]
  },
  {
   "cell_type": "code",
   "execution_count": null,
   "metadata": {},
   "outputs": [],
   "source": [
    "def calc_error(Weighted_Sums,O,t):\n",
    "    do = -(t/O + (1-t)/(1-O))\n",
    "    \n",
    "    error = []\n",
    "    \n",
    "    for i in range(len(Weighted_Sums)):\n",
    "        error.append(do.dot(sigmoid_gradient(Weighted_Sums[i])))\n",
    "    return error\n"
   ]
  },
  {
   "cell_type": "code",
   "execution_count": null,
   "metadata": {},
   "outputs": [],
   "source": [
    "def sigmoid_gradient(z):\n",
    "    np.exp(-z)/((1.0 + np.exp(-z))**2)"
   ]
  },
  {
   "cell_type": "code",
   "execution_count": null,
   "metadata": {},
   "outputs": [],
   "source": [
    "#Activation Function\n",
    "def ReLU(z):\n",
    "    return np.maximum(z,0,z)"
   ]
  },
  {
   "cell_type": "code",
   "execution_count": 5,
   "metadata": {},
   "outputs": [],
   "source": [
    "def sigmoid(z):\n",
    "    return 1.0/(np.exp(-z) + 1.0)"
   ]
  },
  {
   "cell_type": "code",
   "execution_count": 4,
   "metadata": {},
   "outputs": [],
   "source": [
    "class Network:\n",
    "    def __init__(self,layers):\n",
    "        if len(layers)<2:\n",
    "            print(\"Cannot create Neural Network with less than 2 layers\")\n",
    "            return\n",
    "        self.layers = layers\n",
    "        self.weights = []\n",
    "        self.biases = []\n",
    "        \n",
    "        for i in range(1, len(layers)):\n",
    "            rows = layers[i-1] #784\n",
    "            cols = layers[i] #28\n",
    "            layer_weight = np.random.random((rows,cols))\n",
    "            layer_bias = np.random.random(layers[i])\n",
    "            self.weights.append(layer_weight)\n",
    "            self.biases.append(layer_bias)"
   ]
  },
  {
   "cell_type": "code",
   "execution_count": 15,
   "metadata": {},
   "outputs": [],
   "source": [
    "Inputs = []\n",
    "Weighted_Sums = []"
   ]
  },
  {
   "cell_type": "code",
   "execution_count": 16,
   "metadata": {},
   "outputs": [],
   "source": [
    "my_net = Network([784,28,10])\n",
    "#my_net.weights"
   ]
  },
  {
   "cell_type": "code",
   "execution_count": 17,
   "metadata": {},
   "outputs": [],
   "source": [
    "X = np.random.random((5,784))"
   ]
  },
  {
   "cell_type": "code",
   "execution_count": 18,
   "metadata": {},
   "outputs": [
    {
     "name": "stdout",
     "output_type": "stream",
     "text": [
      "Dimensions of X,W,B: (5, 784) (784, 28) (28,)\n",
      "Dimensions of X,W,B: (5, 28) (28, 10) (10,)\n"
     ]
    }
   ],
   "source": [
    "O = forward_pass(X,my_net)"
   ]
  },
  {
   "cell_type": "code",
   "execution_count": null,
   "metadata": {},
   "outputs": [],
   "source": [
    "alpha = 0.25"
   ]
  },
  {
   "cell_type": "code",
   "execution_count": null,
   "metadata": {},
   "outputs": [],
   "source": []
  },
  {
   "cell_type": "code",
   "execution_count": null,
   "metadata": {},
   "outputs": [],
   "source": []
  }
 ],
 "metadata": {
  "kernelspec": {
   "display_name": "Python 3",
   "language": "python",
   "name": "python3"
  },
  "language_info": {
   "codemirror_mode": {
    "name": "ipython",
    "version": 3
   },
   "file_extension": ".py",
   "mimetype": "text/x-python",
   "name": "python",
   "nbconvert_exporter": "python",
   "pygments_lexer": "ipython3",
   "version": "3.5.2"
  }
 },
 "nbformat": 4,
 "nbformat_minor": 2
}
