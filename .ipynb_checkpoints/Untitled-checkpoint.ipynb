{
 "cells": [
  {
   "cell_type": "code",
   "execution_count": 1,
   "metadata": {},
   "outputs": [
    {
     "name": "stderr",
     "output_type": "stream",
     "text": [
      "/home/james/anaconda3/lib/python3.6/site-packages/h5py/__init__.py:36: FutureWarning: Conversion of the second argument of issubdtype from `float` to `np.floating` is deprecated. In future, it will be treated as `np.float64 == np.dtype(float).type`.\n",
      "  from ._conv import register_converters as _register_converters\n"
     ]
    }
   ],
   "source": [
    "import tensorflow as tf\n",
    "import numpy as np\n",
    "import mnist_loader\n",
    "import random"
   ]
  },
  {
   "cell_type": "code",
   "execution_count": 2,
   "metadata": {},
   "outputs": [],
   "source": [
    "#Build the network"
   ]
  },
  {
   "cell_type": "code",
   "execution_count": 3,
   "metadata": {},
   "outputs": [],
   "source": [
    "initializer = tf.contrib.layers.xavier_initializer()"
   ]
  },
  {
   "cell_type": "code",
   "execution_count": 4,
   "metadata": {},
   "outputs": [],
   "source": [
    "batch_size = 100\n",
    "alpha = 0.0005\n",
    "epochs = 20"
   ]
  },
  {
   "cell_type": "code",
   "execution_count": 5,
   "metadata": {},
   "outputs": [],
   "source": [
    "#Load Data\n",
    "train_data,valid_data,test_data = mnist_loader.load_data_wrapper()"
   ]
  },
  {
   "cell_type": "code",
   "execution_count": 6,
   "metadata": {},
   "outputs": [],
   "source": [
    "inputs = tf.placeholder(tf.float32,shape=[None,28,28,1])\n",
    "Y = tf.placeholder(tf.float32,shape=[None,10])\n",
    "\n",
    "#Filter_1\n",
    "#-> filter_size = (5 x 5)\n",
    "#-> input_channels or (channels_in_image) = 1 \n",
    "#-> output_channels or (num_of_filters) = 8\n",
    "w1_shape = [5,5,1,8]\n",
    "w1 = tf.Variable(initializer(w1_shape))\n",
    "#Biases (single value, thus shape is empty tensor [])\n",
    "b1_shape = []\n",
    "b1 = tf.Variable(initializer(b1_shape))\n",
    "\n",
    "\n",
    "#Filter_2\n",
    "#-> filter_size = (3 x 3)\n",
    "#-> input_channels or (channels_in_prev_layer) = 8\n",
    "#-> output_channels or (num_of_filters) = 16\n",
    "w2_shape = [3,3,8,16]\n",
    "w2 = tf.Variable(initializer(w2_shape))\n",
    "#Biases (single value, thus shape is empty tensor [])\n",
    "b2_shape = []\n",
    "b2 = tf.Variable(initializer(b2_shape))\n",
    "\n",
    "#1st Convolutional Layer\n",
    "conv1 = tf.nn.relu(\n",
    "                tf.add(\n",
    "                    tf.nn.conv2d(input=inputs,filter=w1,padding='SAME',strides=[1,2,2,1]),\n",
    "                    b1)\n",
    "                )\n",
    "#1st Pooling layer\n",
    "#pool1 = tf.nn.max_pool(conv1,ksize=[2,2,1,8],strides=[1,2,2,1],padding='SAME')\n",
    "\n",
    "#2nd Convolutional Layer\n",
    "conv2 = tf.nn.relu(\n",
    "                tf.add(\n",
    "                    tf.nn.conv2d(input=conv1,filter=w2,padding='SAME',strides=[1,2,2,1]),\n",
    "                    b2)\n",
    "                )\n",
    "#2nd Pooling Layer\n",
    "#pool2 = tf.nn.max_pool(conv2,ksize=[2,2,8,16],strides=[1,2,2,1],padding='SAME')\n",
    "\n",
    "#Reshape output from conv2 (batch_size,7,7,16) to (batch_size,784)\n",
    "fc_inputs = tf.reshape(conv2,[-1,784])\n",
    "\n",
    "#1st Fully Connceted layer input -> 784 neurons output -> 30 neurons\n",
    "#Weights\n",
    "w3_shape = [784,30]\n",
    "w3 = tf.Variable(initial_value=initializer(w3_shape))\n",
    "#Biases\n",
    "b3_shape = [30]\n",
    "b3 = tf.Variable(initial_value=initializer(b3_shape))\n",
    "#Output Activation\n",
    "a0 = tf.nn.relu(tf.add(tf.matmul(fc_inputs,w3),b3))\n",
    "\n",
    "\n",
    "\n",
    "#2nd Fully Connceted layer input -> 30 neurons output -> 10 neurons\n",
    "#Weights\n",
    "w4_shape = [30,10]\n",
    "w4 = tf.Variable(initial_value=initializer(w4_shape))\n",
    "#Biases\n",
    "b4_shape = [10]\n",
    "b4 = tf.Variable(initial_value=initializer(b4_shape))\n",
    "#Output Activation\n",
    "a1 = tf.nn.softmax(tf.add(tf.matmul(a0,w4),b4))\n",
    "\n",
    "loss = tf.reduce_sum(tf.losses.log_loss(labels=Y,predictions=a1))\n",
    "\n",
    "is_correct = tf.equal(tf.argmax(a1,1),tf.argmax(Y,1))\n",
    "accuracy = tf.reduce_mean(tf.cast(is_correct,tf.float32))"
   ]
  },
  {
   "cell_type": "code",
   "execution_count": 7,
   "metadata": {},
   "outputs": [],
   "source": [
    "optimizer = tf.train.AdamOptimizer(learning_rate=alpha)\n",
    "train = optimizer.minimize(loss)"
   ]
  },
  {
   "cell_type": "code",
   "execution_count": 9,
   "metadata": {},
   "outputs": [
    {
     "name": "stdout",
     "output_type": "stream",
     "text": [
      "Epoch 0 : train_loss = 71.87458 test_accuracy = 90.92000126838684\n",
      "Epoch 1 : train_loss = 24.29269 test_accuracy = 93.33000183105469\n",
      "Epoch 2 : train_loss = 18.12940 test_accuracy = 94.72000002861023\n",
      "Epoch 3 : train_loss = 14.42219 test_accuracy = 95.67000269889832\n",
      "Epoch 4 : train_loss = 11.84146 test_accuracy = 96.3100016117096\n",
      "Epoch 5 : train_loss = 9.95499 test_accuracy = 96.74999713897705\n",
      "Epoch 6 : train_loss = 8.60272 test_accuracy = 97.14000225067139\n",
      "Epoch 7 : train_loss = 7.58748 test_accuracy = 97.4399983882904\n",
      "Epoch 8 : train_loss = 6.78356 test_accuracy = 97.64000177383423\n",
      "Epoch 9 : train_loss = 6.08619 test_accuracy = 97.86999821662903\n",
      "Epoch 10 : train_loss = 5.53520 test_accuracy = 97.93000221252441\n",
      "Epoch 11 : train_loss = 5.04383 test_accuracy = 97.93000221252441\n",
      "Epoch 12 : train_loss = 4.62208 test_accuracy = 98.0400025844574\n",
      "Epoch 13 : train_loss = 4.27381 test_accuracy = 97.99000024795532\n",
      "Epoch 14 : train_loss = 3.96490 test_accuracy = 98.03000092506409\n",
      "Epoch 15 : train_loss = 3.69026 test_accuracy = 98.05999994277954\n",
      "Epoch 16 : train_loss = 3.44045 test_accuracy = 98.03000092506409\n",
      "Epoch 17 : train_loss = 3.21657 test_accuracy = 98.04999828338623\n",
      "Epoch 18 : train_loss = 3.00574 test_accuracy = 98.05999994277954\n",
      "Epoch 19 : train_loss = 2.79525 test_accuracy = 98.07999730110168\n",
      "Epoch 20 : train_loss = 2.59037 test_accuracy = 98.11000227928162\n",
      "Epoch 21 : train_loss = 2.42404 test_accuracy = 98.1000006198883\n"
     ]
    },
    {
     "ename": "KeyboardInterrupt",
     "evalue": "",
     "output_type": "error",
     "traceback": [
      "\u001b[0;31m---------------------------------------------------------------------------\u001b[0m",
      "\u001b[0;31mKeyboardInterrupt\u001b[0m                         Traceback (most recent call last)",
      "\u001b[0;32m<ipython-input-9-b96fe01e167c>\u001b[0m in \u001b[0;36m<module>\u001b[0;34m()\u001b[0m\n\u001b[1;32m     13\u001b[0m             \u001b[0msess\u001b[0m\u001b[0;34m.\u001b[0m\u001b[0mrun\u001b[0m\u001b[0;34m(\u001b[0m\u001b[0mtrain\u001b[0m\u001b[0;34m,\u001b[0m\u001b[0mfeed_dict\u001b[0m\u001b[0;34m=\u001b[0m\u001b[0mfeed_train\u001b[0m\u001b[0;34m)\u001b[0m\u001b[0;34m\u001b[0m\u001b[0m\n\u001b[1;32m     14\u001b[0m \u001b[0;34m\u001b[0m\u001b[0m\n\u001b[0;32m---> 15\u001b[0;31m             \u001b[0mloss_val\u001b[0m \u001b[0;34m+=\u001b[0m \u001b[0msess\u001b[0m\u001b[0;34m.\u001b[0m\u001b[0mrun\u001b[0m\u001b[0;34m(\u001b[0m\u001b[0mloss\u001b[0m\u001b[0;34m,\u001b[0m\u001b[0mfeed_dict\u001b[0m\u001b[0;34m=\u001b[0m\u001b[0mfeed_train\u001b[0m\u001b[0;34m)\u001b[0m\u001b[0;34m\u001b[0m\u001b[0m\n\u001b[0m\u001b[1;32m     16\u001b[0m \u001b[0;34m\u001b[0m\u001b[0m\n\u001b[1;32m     17\u001b[0m         \u001b[0mtest_X\u001b[0m \u001b[0;34m=\u001b[0m \u001b[0mtest_data\u001b[0m\u001b[0;34m[\u001b[0m\u001b[0;36m0\u001b[0m\u001b[0;34m]\u001b[0m\u001b[0;34m.\u001b[0m\u001b[0mreshape\u001b[0m\u001b[0;34m(\u001b[0m\u001b[0;34m-\u001b[0m\u001b[0;36m1\u001b[0m\u001b[0;34m,\u001b[0m\u001b[0;36m28\u001b[0m\u001b[0;34m,\u001b[0m\u001b[0;36m28\u001b[0m\u001b[0;34m,\u001b[0m\u001b[0;36m1\u001b[0m\u001b[0;34m)\u001b[0m\u001b[0;34m\u001b[0m\u001b[0m\n",
      "\u001b[0;32m~/anaconda3/lib/python3.6/site-packages/tensorflow/python/client/session.py\u001b[0m in \u001b[0;36mrun\u001b[0;34m(self, fetches, feed_dict, options, run_metadata)\u001b[0m\n\u001b[1;32m    887\u001b[0m     \u001b[0;32mtry\u001b[0m\u001b[0;34m:\u001b[0m\u001b[0;34m\u001b[0m\u001b[0m\n\u001b[1;32m    888\u001b[0m       result = self._run(None, fetches, feed_dict, options_ptr,\n\u001b[0;32m--> 889\u001b[0;31m                          run_metadata_ptr)\n\u001b[0m\u001b[1;32m    890\u001b[0m       \u001b[0;32mif\u001b[0m \u001b[0mrun_metadata\u001b[0m\u001b[0;34m:\u001b[0m\u001b[0;34m\u001b[0m\u001b[0m\n\u001b[1;32m    891\u001b[0m         \u001b[0mproto_data\u001b[0m \u001b[0;34m=\u001b[0m \u001b[0mtf_session\u001b[0m\u001b[0;34m.\u001b[0m\u001b[0mTF_GetBuffer\u001b[0m\u001b[0;34m(\u001b[0m\u001b[0mrun_metadata_ptr\u001b[0m\u001b[0;34m)\u001b[0m\u001b[0;34m\u001b[0m\u001b[0m\n",
      "\u001b[0;32m~/anaconda3/lib/python3.6/site-packages/tensorflow/python/client/session.py\u001b[0m in \u001b[0;36m_run\u001b[0;34m(self, handle, fetches, feed_dict, options, run_metadata)\u001b[0m\n\u001b[1;32m   1118\u001b[0m     \u001b[0;32mif\u001b[0m \u001b[0mfinal_fetches\u001b[0m \u001b[0;32mor\u001b[0m \u001b[0mfinal_targets\u001b[0m \u001b[0;32mor\u001b[0m \u001b[0;34m(\u001b[0m\u001b[0mhandle\u001b[0m \u001b[0;32mand\u001b[0m \u001b[0mfeed_dict_tensor\u001b[0m\u001b[0;34m)\u001b[0m\u001b[0;34m:\u001b[0m\u001b[0;34m\u001b[0m\u001b[0m\n\u001b[1;32m   1119\u001b[0m       results = self._do_run(handle, final_targets, final_fetches,\n\u001b[0;32m-> 1120\u001b[0;31m                              feed_dict_tensor, options, run_metadata)\n\u001b[0m\u001b[1;32m   1121\u001b[0m     \u001b[0;32melse\u001b[0m\u001b[0;34m:\u001b[0m\u001b[0;34m\u001b[0m\u001b[0m\n\u001b[1;32m   1122\u001b[0m       \u001b[0mresults\u001b[0m \u001b[0;34m=\u001b[0m \u001b[0;34m[\u001b[0m\u001b[0;34m]\u001b[0m\u001b[0;34m\u001b[0m\u001b[0m\n",
      "\u001b[0;32m~/anaconda3/lib/python3.6/site-packages/tensorflow/python/client/session.py\u001b[0m in \u001b[0;36m_do_run\u001b[0;34m(self, handle, target_list, fetch_list, feed_dict, options, run_metadata)\u001b[0m\n\u001b[1;32m   1315\u001b[0m     \u001b[0;32mif\u001b[0m \u001b[0mhandle\u001b[0m \u001b[0;32mis\u001b[0m \u001b[0;32mNone\u001b[0m\u001b[0;34m:\u001b[0m\u001b[0;34m\u001b[0m\u001b[0m\n\u001b[1;32m   1316\u001b[0m       return self._do_call(_run_fn, self._session, feeds, fetches, targets,\n\u001b[0;32m-> 1317\u001b[0;31m                            options, run_metadata)\n\u001b[0m\u001b[1;32m   1318\u001b[0m     \u001b[0;32melse\u001b[0m\u001b[0;34m:\u001b[0m\u001b[0;34m\u001b[0m\u001b[0m\n\u001b[1;32m   1319\u001b[0m       \u001b[0;32mreturn\u001b[0m \u001b[0mself\u001b[0m\u001b[0;34m.\u001b[0m\u001b[0m_do_call\u001b[0m\u001b[0;34m(\u001b[0m\u001b[0m_prun_fn\u001b[0m\u001b[0;34m,\u001b[0m \u001b[0mself\u001b[0m\u001b[0;34m.\u001b[0m\u001b[0m_session\u001b[0m\u001b[0;34m,\u001b[0m \u001b[0mhandle\u001b[0m\u001b[0;34m,\u001b[0m \u001b[0mfeeds\u001b[0m\u001b[0;34m,\u001b[0m \u001b[0mfetches\u001b[0m\u001b[0;34m)\u001b[0m\u001b[0;34m\u001b[0m\u001b[0m\n",
      "\u001b[0;32m~/anaconda3/lib/python3.6/site-packages/tensorflow/python/client/session.py\u001b[0m in \u001b[0;36m_do_call\u001b[0;34m(self, fn, *args)\u001b[0m\n\u001b[1;32m   1321\u001b[0m   \u001b[0;32mdef\u001b[0m \u001b[0m_do_call\u001b[0m\u001b[0;34m(\u001b[0m\u001b[0mself\u001b[0m\u001b[0;34m,\u001b[0m \u001b[0mfn\u001b[0m\u001b[0;34m,\u001b[0m \u001b[0;34m*\u001b[0m\u001b[0margs\u001b[0m\u001b[0;34m)\u001b[0m\u001b[0;34m:\u001b[0m\u001b[0;34m\u001b[0m\u001b[0m\n\u001b[1;32m   1322\u001b[0m     \u001b[0;32mtry\u001b[0m\u001b[0;34m:\u001b[0m\u001b[0;34m\u001b[0m\u001b[0m\n\u001b[0;32m-> 1323\u001b[0;31m       \u001b[0;32mreturn\u001b[0m \u001b[0mfn\u001b[0m\u001b[0;34m(\u001b[0m\u001b[0;34m*\u001b[0m\u001b[0margs\u001b[0m\u001b[0;34m)\u001b[0m\u001b[0;34m\u001b[0m\u001b[0m\n\u001b[0m\u001b[1;32m   1324\u001b[0m     \u001b[0;32mexcept\u001b[0m \u001b[0merrors\u001b[0m\u001b[0;34m.\u001b[0m\u001b[0mOpError\u001b[0m \u001b[0;32mas\u001b[0m \u001b[0me\u001b[0m\u001b[0;34m:\u001b[0m\u001b[0;34m\u001b[0m\u001b[0m\n\u001b[1;32m   1325\u001b[0m       \u001b[0mmessage\u001b[0m \u001b[0;34m=\u001b[0m \u001b[0mcompat\u001b[0m\u001b[0;34m.\u001b[0m\u001b[0mas_text\u001b[0m\u001b[0;34m(\u001b[0m\u001b[0me\u001b[0m\u001b[0;34m.\u001b[0m\u001b[0mmessage\u001b[0m\u001b[0;34m)\u001b[0m\u001b[0;34m\u001b[0m\u001b[0m\n",
      "\u001b[0;32m~/anaconda3/lib/python3.6/site-packages/tensorflow/python/client/session.py\u001b[0m in \u001b[0;36m_run_fn\u001b[0;34m(session, feed_dict, fetch_list, target_list, options, run_metadata)\u001b[0m\n\u001b[1;32m   1300\u001b[0m           return tf_session.TF_Run(session, options,\n\u001b[1;32m   1301\u001b[0m                                    \u001b[0mfeed_dict\u001b[0m\u001b[0;34m,\u001b[0m \u001b[0mfetch_list\u001b[0m\u001b[0;34m,\u001b[0m \u001b[0mtarget_list\u001b[0m\u001b[0;34m,\u001b[0m\u001b[0;34m\u001b[0m\u001b[0m\n\u001b[0;32m-> 1302\u001b[0;31m                                    status, run_metadata)\n\u001b[0m\u001b[1;32m   1303\u001b[0m \u001b[0;34m\u001b[0m\u001b[0m\n\u001b[1;32m   1304\u001b[0m     \u001b[0;32mdef\u001b[0m \u001b[0m_prun_fn\u001b[0m\u001b[0;34m(\u001b[0m\u001b[0msession\u001b[0m\u001b[0;34m,\u001b[0m \u001b[0mhandle\u001b[0m\u001b[0;34m,\u001b[0m \u001b[0mfeed_dict\u001b[0m\u001b[0;34m,\u001b[0m \u001b[0mfetch_list\u001b[0m\u001b[0;34m)\u001b[0m\u001b[0;34m:\u001b[0m\u001b[0;34m\u001b[0m\u001b[0m\n",
      "\u001b[0;31mKeyboardInterrupt\u001b[0m: "
     ]
    }
   ],
   "source": [
    "with tf.Session() as sess:\n",
    "    sess.run(tf.global_variables_initializer())\n",
    "    \n",
    "    for e in range(epochs):            \n",
    "        loss_val = 0\n",
    "\n",
    "        for b in range(0,train_data[0].shape[0],batch_size):\n",
    "            training_X = train_data[0][b:b+batch_size].reshape(-1,28,28,1)\n",
    "            training_Y = train_data[1][b:b+batch_size]\n",
    "            \n",
    "            feed_train = {inputs:training_X,Y:training_Y}\n",
    "            \n",
    "            sess.run(train,feed_dict=feed_train)\n",
    "            \n",
    "            loss_val += sess.run(loss,feed_dict=feed_train)\n",
    "\n",
    "        test_X = test_data[0].reshape(-1,28,28,1)\n",
    "        test_Y = test_data[1]\n",
    "        feed_test = {inputs:test_X,Y:test_Y}\n",
    "        \n",
    "        accuracy_val = sess.run(accuracy,feed_dict=feed_test)\n",
    "        print(\"Epoch {} : train_loss = {:.5f} test_accuracy = {:}\".format(e,loss_val,accuracy_val*100))"
   ]
  },
  {
   "cell_type": "code",
   "execution_count": null,
   "metadata": {},
   "outputs": [],
   "source": []
  }
 ],
 "metadata": {
  "kernelspec": {
   "display_name": "Python 3",
   "language": "python",
   "name": "python3"
  },
  "language_info": {
   "codemirror_mode": {
    "name": "ipython",
    "version": 3
   },
   "file_extension": ".py",
   "mimetype": "text/x-python",
   "name": "python",
   "nbconvert_exporter": "python",
   "pygments_lexer": "ipython3",
   "version": "3.6.4"
  }
 },
 "nbformat": 4,
 "nbformat_minor": 2
}
